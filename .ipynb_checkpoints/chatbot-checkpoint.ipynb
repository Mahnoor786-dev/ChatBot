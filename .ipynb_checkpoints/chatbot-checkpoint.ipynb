{
 "cells": [
  {
   "cell_type": "code",
   "execution_count": 3,
   "id": "ff29b662",
   "metadata": {},
   "outputs": [
    {
     "ename": "ModuleNotFoundError",
     "evalue": "No module named 'chatterbot'",
     "output_type": "error",
     "traceback": [
      "\u001b[1;31m---------------------------------------------------------------------------\u001b[0m",
      "\u001b[1;31mModuleNotFoundError\u001b[0m                       Traceback (most recent call last)",
      "Input \u001b[1;32mIn [3]\u001b[0m, in \u001b[0;36m<cell line: 1>\u001b[1;34m()\u001b[0m\n\u001b[1;32m----> 1\u001b[0m \u001b[38;5;28;01mfrom\u001b[39;00m \u001b[38;5;21;01mchatterbot\u001b[39;00m \u001b[38;5;28;01mimport\u001b[39;00m ChatBot\n\u001b[0;32m      2\u001b[0m \u001b[38;5;66;03m# function to create the chatbot\u001b[39;00m\n\u001b[0;32m      3\u001b[0m \u001b[38;5;66;03m# we have the read_only to false so the chatbot learns from the user input as \u001b[39;00m\n\u001b[0;32m      4\u001b[0m \u001b[38;5;28;01mdef\u001b[39;00m \u001b[38;5;21mcreate_bot\u001b[39m(name):\n",
      "\u001b[1;31mModuleNotFoundError\u001b[0m: No module named 'chatterbot'"
     ]
    }
   ],
   "source": [
    "from chatterbot import ChatBot\n",
    "# function to create the chatbot\n",
    "# we have the read_only to false so the chatbot learns from the user input as \n",
    "def create_bot(name):\n",
    "    Bot = ChatBot(name = name,\n",
    "                  read_only = False,                  \n",
    "                  logic_adapters = [\"chatterbot.logic.BestMatch\"],                 \n",
    "                  storage_adapter = \"chatterbot.storage.SQLStorageAdapter\")\n",
    "    return Bot\n",
    "\n",
    "# function to train the bot with a variety of topics\n",
    "# the language we have chosen is english\n",
    "# we can train the bot for other languages as well\n",
    "def train_all_data(Bot):\n",
    "    from chatterbot.trainers import ChatterBotCorpusTrainer\n",
    "    corpus_trainer = ChatterBotCorpusTrainer(Bot)\n",
    "    corpus_trainer.train(\"chatterbot.corpus.english\")\n",
    "\n",
    "# function to train the bot with custom data\n",
    "# it uses ListTrainer to train data from lists \n",
    "def custom_train(Bot, conversation):\n",
    "    from chatterbot.trainers import ListTrainer\n",
    "    trainer = ListTrainer(Bot)\n",
    "    trainer.train(conversation)\n",
    "\n",
    "# function to start and take responses from the chatbot\n",
    "# the chatbot stays running unless a word is typed from the bye_list \n",
    "def start_chatbot(Bot):\n",
    "    print('\\033c')\n",
    "    print(\"Hello, I am Jordan. How can I help you\")\n",
    "    bye_list = [\"bye jordan\", \"bye\", \"good bye\"] \n",
    "    \n",
    "    while (True):\n",
    "        user_input = input(\"me: \")   \n",
    "        if user_input.lower() in bye_list:\n",
    "            print(\"Jordan: Good bye and have a blessed day!\")\n",
    "            break\n",
    "        \n",
    "        response = Bot.get_response(user_input)\n",
    "        print(\"Jordan:\", response)"
   ]
  },
  {
   "cell_type": "code",
   "execution_count": 2,
   "id": "c1e53625",
   "metadata": {},
   "outputs": [
    {
     "ename": "ModuleNotFoundError",
     "evalue": "No module named 'chatterbot'",
     "output_type": "error",
     "traceback": [
      "\u001b[1;31m---------------------------------------------------------------------------\u001b[0m",
      "\u001b[1;31mModuleNotFoundError\u001b[0m                       Traceback (most recent call last)",
      "Input \u001b[1;32mIn [2]\u001b[0m, in \u001b[0;36m<cell line: 2>\u001b[1;34m()\u001b[0m\n\u001b[0;32m      1\u001b[0m \u001b[38;5;66;03m# create chatbot \u001b[39;00m\n\u001b[1;32m----> 2\u001b[0m home_bot \u001b[38;5;241m=\u001b[39m \u001b[43mcreate_bot\u001b[49m\u001b[43m(\u001b[49m\u001b[38;5;124;43m'\u001b[39;49m\u001b[38;5;124;43mJordan\u001b[39;49m\u001b[38;5;124;43m'\u001b[39;49m\u001b[43m)\u001b[49m\n\u001b[0;32m      4\u001b[0m \u001b[38;5;66;03m# train all data\u001b[39;00m\n\u001b[0;32m      5\u001b[0m train_all_data(home_bot)\n",
      "Input \u001b[1;32mIn [1]\u001b[0m, in \u001b[0;36mcreate_bot\u001b[1;34m(name)\u001b[0m\n\u001b[0;32m      3\u001b[0m \u001b[38;5;28;01mdef\u001b[39;00m \u001b[38;5;21mcreate_bot\u001b[39m(name):\n\u001b[1;32m----> 4\u001b[0m     \u001b[38;5;28;01mfrom\u001b[39;00m \u001b[38;5;21;01mchatterbot\u001b[39;00m \u001b[38;5;28;01mimport\u001b[39;00m ChatBot\n\u001b[0;32m      5\u001b[0m     Bot \u001b[38;5;241m=\u001b[39m ChatBot(name \u001b[38;5;241m=\u001b[39m name,\n\u001b[0;32m      6\u001b[0m                   read_only \u001b[38;5;241m=\u001b[39m \u001b[38;5;28;01mFalse\u001b[39;00m,                  \n\u001b[0;32m      7\u001b[0m                   logic_adapters \u001b[38;5;241m=\u001b[39m [\u001b[38;5;124m\"\u001b[39m\u001b[38;5;124mchatterbot.logic.BestMatch\u001b[39m\u001b[38;5;124m\"\u001b[39m],                 \n\u001b[0;32m      8\u001b[0m                   storage_adapter \u001b[38;5;241m=\u001b[39m \u001b[38;5;124m\"\u001b[39m\u001b[38;5;124mchatterbot.storage.SQLStorageAdapter\u001b[39m\u001b[38;5;124m\"\u001b[39m)\n\u001b[0;32m      9\u001b[0m     \u001b[38;5;28;01mreturn\u001b[39;00m Bot\n",
      "\u001b[1;31mModuleNotFoundError\u001b[0m: No module named 'chatterbot'"
     ]
    }
   ],
   "source": [
    "# create chatbot \n",
    "home_bot = create_bot('Jordan')\n",
    "\n",
    "# train all data\n",
    "train_all_data(home_bot)\n",
    "\n",
    "# check identity\n",
    "identity = input(\"State your identity please: \")\n",
    "\n",
    "# rules for responding to different identities\n",
    "if identity == \"Mark\":\n",
    "    print(\"Welcome, Mark. Happy to have you at home.\")\n",
    "\n",
    "elif identity == \"Jane\":\n",
    "    print(\"Mark is out right now, but you are welcome to the house.\")\n",
    "\n",
    "else:\n",
    "    print(\"Your access is denied here.\")\n",
    "    exit()"
   ]
  },
  {
   "cell_type": "code",
   "execution_count": null,
   "id": "98e4696d",
   "metadata": {},
   "outputs": [],
   "source": [
    "\n",
    "# custom data\n",
    "house_owner = [\n",
    "    \"Who is the owner of this house?\",\n",
    "    \"Mark Nicholas is the owner of this house.\"\n",
    "]\n",
    "custom_train(home_bot, house_owner)\n",
    "\n",
    "print(\"------ Training custom data ------\")\n",
    "# write and train your custom data here IF the identity is Mark\n",
    "if identity == 'Mark':   \n",
    "    city_born = [\n",
    "        \"Where was I born?\",\n",
    "        \"Mark, you were born in Seattle.\"\n",
    "    ]\n",
    "\n",
    "    fav_book = [\n",
    "        \"What is my favourite book?\",\n",
    "        \"That is easy. Your favourite book is The Great Gatsby.\"\n",
    "    ]\n",
    "\n",
    "    fav_movie = [\n",
    "        \"What is my favourite movie?\",\n",
    "        \"You have watched Interstellar more times than I can count.\"\n",
    "    ]\n",
    "\n",
    "    fav_sports = [\n",
    "        \"What is my favourite sport?\",\n",
    "        \"You have always loved baseball.\"\n",
    "    ]\n",
    "    # train chatbot with your custom data\n",
    "    custom_train(home_bot, city_born)\n",
    "    custom_train(home_bot, fav_book)\n",
    "    custom_train(home_bot, fav_movie)\n",
    "    custom_train(home_bot, fav_sports)\n",
    "\n",
    "# start chatbot\n",
    "start_chatbot(home_bot)"
   ]
  },
  {
   "cell_type": "code",
   "execution_count": null,
   "id": "15d83786",
   "metadata": {},
   "outputs": [],
   "source": []
  }
 ],
 "metadata": {
  "kernelspec": {
   "display_name": "Python 3 (ipykernel)",
   "language": "python",
   "name": "python3"
  },
  "language_info": {
   "codemirror_mode": {
    "name": "ipython",
    "version": 3
   },
   "file_extension": ".py",
   "mimetype": "text/x-python",
   "name": "python",
   "nbconvert_exporter": "python",
   "pygments_lexer": "ipython3",
   "version": "3.9.7"
  }
 },
 "nbformat": 4,
 "nbformat_minor": 5
}
