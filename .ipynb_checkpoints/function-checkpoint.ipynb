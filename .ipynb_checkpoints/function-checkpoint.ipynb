{
 "cells": [
  {
   "cell_type": "code",
   "execution_count": null,
   "id": "301f7692",
   "metadata": {},
   "outputs": [],
   "source": [
    "# function to create the chatbot\n",
    "# we have the read_only to false so the chatbot learns from the user input as \n",
    "def create_bot(name):\n",
    "    from chatterbot import ChatBot\n",
    "    Bot = ChatBot(name = name,\n",
    "                  read_only = False,                  \n",
    "                  logic_adapters = [\"chatterbot.logic.BestMatch\"],                 \n",
    "                  storage_adapter = \"chatterbot.storage.SQLStorageAdapter\")\n",
    "    return Bot\n",
    "\n",
    "# function to train the bot with a variety of topics\n",
    "# the language we have chosen is english\n",
    "# we can train the bot for other languages as well\n",
    "def train_all_data(Bot):\n",
    "    from chatterbot.trainers import ChatterBotCorpusTrainer\n",
    "    corpus_trainer = ChatterBotCorpusTrainer(Bot)\n",
    "    corpus_trainer.train(\"chatterbot.corpus.english\")\n",
    "\n",
    "# function to train the bot with custom data\n",
    "# it uses ListTrainer to train data from lists \n",
    "def custom_train(Bot, conversation):\n",
    "    from chatterbot.trainers import ListTrainer\n",
    "    trainer = ListTrainer(Bot)\n",
    "    trainer.train(conversation)\n",
    "\n",
    "# function to start and take responses from the chatbot\n",
    "# the chatbot stays running unless a word is typed from the bye_list \n",
    "def start_chatbot(Bot):\n",
    "    print('\\033c')\n",
    "    print(\"Hello, I am Jordan. How can I help you\")\n",
    "    bye_list = [\"bye jordan\", \"bye\", \"good bye\"] \n",
    "    \n",
    "    while (True):\n",
    "        user_input = input(\"me: \")   \n",
    "        if user_input.lower() in bye_list:\n",
    "            print(\"Jordan: Good bye and have a blessed day!\")\n",
    "            break\n",
    "        \n",
    "        response = Bot.get_response(user_input)\n",
    "        print(\"Jordan:\", response)"
   ]
  }
 ],
 "metadata": {
  "kernelspec": {
   "display_name": "Python 3 (ipykernel)",
   "language": "python",
   "name": "python3"
  },
  "language_info": {
   "codemirror_mode": {
    "name": "ipython",
    "version": 3
   },
   "file_extension": ".py",
   "mimetype": "text/x-python",
   "name": "python",
   "nbconvert_exporter": "python",
   "pygments_lexer": "ipython3",
   "version": "3.9.7"
  }
 },
 "nbformat": 4,
 "nbformat_minor": 5
}
